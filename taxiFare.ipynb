{
 "cells": [
  {
   "cell_type": "markdown",
   "metadata": {
    "collapsed": true
   },
   "source": [
    "For predicting the taxi Fare in new york using XGBoost, Linear Regression and Tensor FLow"
   ]
  },
  {
   "cell_type": "code",
   "execution_count": 26,
   "metadata": {},
   "outputs": [],
   "source": [
    "import numpy as np\n",
    "import pandas as pd\n",
    "from sklearn.linear_model import LinearRegression\n",
    "import matplotlib.pyplot as plt\n",
    "import datetime\n",
    "from sklearn.model_selection import train_test_split\n",
    "from sklearn.metrics import mean_squared_error as mse\n",
    "from sklearn.metrics import r2_score\n",
    "from sklearn.metrics import confusion_matrix\n",
    "from sklearn.ensemble import RandomForestRegressor\n",
    "import xgboost as xgb\n",
    "from xgboost import XGBRegressor"
   ]
  },
  {
   "cell_type": "code",
   "execution_count": 55,
   "metadata": {},
   "outputs": [
    {
     "name": "stdout",
     "output_type": "stream",
     "text": [
      "Train\n(300000, 7)\n(9914, 7)\n"
     ]
    }
   ],
   "source": [
    "\n",
    "taxi_feature = pd.read_csv(r'C:\\Exercise\\TaxiFare\\train.csv',index_col=0,nrows=300000)\n",
    "taxi_feature_test = pd.read_csv(r'C:\\Exercise\\TaxiFare\\test.csv')\n",
    "print(\"Train\")\n",
    "print(taxi_feature.shape)\n",
    "\n",
    "taxi_feature.dropna(axis=0,how='any')\n",
    "taxi_feature_test.dropna(axis=0,how='any')\n",
    "\n",
    "print(taxi_feature_test.shape)\n"
   ]
  },
  {
   "cell_type": "markdown",
   "metadata": {},
   "source": [
    "1) Check for data inconsistency(null or missing value and outliers). We clearly find outliers by seeing the describe function. latitude lies between -90 to +90 and longitude lies between -180 and +180\n",
    "2) Dropping out -ve fare values which is not possible"
   ]
  },
  {
   "cell_type": "code",
   "execution_count": 28,
   "metadata": {},
   "outputs": [
    {
     "name": "stdout",
     "output_type": "stream",
     "text": [
      "\nTrain data stats\n\n"
     ]
    },
    {
     "name": "stdout",
     "output_type": "stream",
     "text": [
      "        fare_amount  pickup_longitude  pickup_latitude  dropoff_longitude  \\\ncount  3.000000e+06      3.000000e+06     3.000000e+06       2.999977e+06   \nmean   1.134246e+01     -7.250894e+01     3.992033e+01      -7.250740e+01   \nstd    9.828907e+00      1.320223e+01     8.644440e+00       1.308827e+01   \nmin   -6.200000e+01     -3.426609e+03    -3.488080e+03      -3.408430e+03   \n25%    6.000000e+00     -7.399207e+01     4.073492e+01      -7.399139e+01   \n50%    8.500000e+00     -7.398181e+01     4.075263e+01      -7.398016e+01   \n75%    1.250000e+01     -7.396710e+01     4.076712e+01      -7.396367e+01   \nmax    1.273310e+03      3.439426e+03     2.912465e+03       3.457622e+03   \n\n       dropoff_latitude  passenger_count  \ncount      2.999977e+06     3.000000e+06  \nmean       3.991728e+01     1.684528e+00  \nstd        9.984419e+00     1.329084e+00  \nmin       -3.488080e+03     0.000000e+00  \n25%        4.073402e+01     1.000000e+00  \n50%        4.075315e+01     1.000000e+00  \n75%        4.076811e+01     2.000000e+00  \nmax        3.345917e+03     2.080000e+02  \n\nTest data stats\n\n       pickup_longitude  pickup_latitude  dropoff_longitude  dropoff_latitude  \\\ncount       9914.000000      9914.000000        9914.000000       9914.000000   \nmean         -73.974722        40.751041         -73.973657         40.751743   \nstd            0.042774         0.033541           0.039072          0.035435   \nmin          -74.252193        40.573143         -74.263242         40.568973   \n25%          -73.992501        40.736125         -73.991247         40.735254   \n50%          -73.982326        40.753051         -73.980015         40.754065   \n75%          -73.968013        40.767113         -73.964059         40.768757   \nmax          -72.986532        41.709555         -72.990963         41.696683   \n\n       passenger_count  \ncount      9914.000000  \nmean          1.671273  \nstd           1.278747  \nmin           1.000000  \n25%           1.000000  \n50%           1.000000  \n75%           2.000000  \nmax           6.000000  \n                           key          pickup_datetime  pickup_longitude  \\\n0  2015-01-27 13:08:24.0000002  2015-01-27 13:08:24 UTC        -73.973320   \n1  2015-01-27 13:08:24.0000003  2015-01-27 13:08:24 UTC        -73.986862   \n2  2011-10-08 11:53:44.0000002  2011-10-08 11:53:44 UTC        -73.982524   \n3  2012-12-01 21:12:12.0000002  2012-12-01 21:12:12 UTC        -73.981160   \n4  2012-12-01 21:12:12.0000003  2012-12-01 21:12:12 UTC        -73.966046   \n\n   pickup_latitude  dropoff_longitude  dropoff_latitude  passenger_count  \n0        40.763805         -73.981430         40.743835                1  \n1        40.719383         -73.998886         40.739201                1  \n2        40.751260         -73.979654         40.746139                1  \n3        40.767807         -73.990448         40.751635                1  \n4        40.789775         -73.988565         40.744427                1  \n"
     ]
    }
   ],
   "source": [
    "print(\"\\nTrain data stats\\n\")\n",
    "print(taxi_feature.describe())\n",
    "#print(taxi_feature.isnull().sum())\n",
    "print(\"\\nTest data stats\\n\")\n",
    "print(taxi_feature_test.describe())\n",
    "print(taxi_feature_test.head())"
   ]
  },
  {
   "cell_type": "code",
   "execution_count": 6,
   "metadata": {},
   "outputs": [],
   "source": [
    "def outliers(taxi_feature):#finding out outliers in latitude and longitude values\n",
    "    \n",
    "    taxi_feature.drop(taxi_feature[(taxi_feature.pickup_longitude < -180) & (taxi_feature.pickup_longitude > 180)].index,inplace=True)\n",
    "    \n",
    "    taxi_feature.drop(taxi_feature[(taxi_feature.dropoff_longitude > 180) & (taxi_feature.dropoff_longitude < -180)].index,inplace=True)\n",
    "    \n",
    "    taxi_feature.drop(taxi_feature[(taxi_feature.pickup_latitude > 90) & (taxi_feature.pickup_latitude < -90)].index,inplace=True)\n",
    "    \n",
    "    taxi_feature.drop(taxi_feature[(taxi_feature.dropoff_latitude > 90) & (taxi_feature.dropoff_latitude < -90)].index,inplace=True)\n",
    "    \n",
    "    if 'fare_amount' in taxi_feature:\n",
    "        taxi_feature.drop(taxi_feature[taxi_feature.fare_amount < 0].index,inplace=True)\n",
    "#New york city Latitude and longitude coordinates are: 40.730610, -73.935242.\n",
    "#Boundary of New York City is (-75, -73, 40, 42)\n",
    "\n",
    "    taxi_feature.drop(taxi_feature[(taxi_feature.pickup_longitude > 42) & (taxi_feature.pickup_longitude < 40)].index,inplace=True)\n",
    "    \n",
    "    taxi_feature.drop(taxi_feature[(taxi_feature.dropoff_longitude < 40) & (taxi_feature.dropoff_longitude > 42)].index,inplace=True)\n",
    "    \n",
    "    taxi_feature.drop(taxi_feature[(taxi_feature.pickup_latitude < -75) & (taxi_feature.pickup_latitude > -73)].index,inplace=True)\n",
    "    \n",
    "    taxi_feature.drop(taxi_feature[(taxi_feature.dropoff_latitude < -75) & (taxi_feature.dropoff_latitude > -73)].index,inplace=True)\n",
    "\n",
    "    return taxi_feature"
   ]
  },
  {
   "cell_type": "code",
   "execution_count": 56,
   "metadata": {},
   "outputs": [
    {
     "name": "stdout",
     "output_type": "stream",
     "text": [
      "\nTrain data stats\n\n(299985, 7)\n\nTest data stats\n\n(9914, 7)\n"
     ]
    }
   ],
   "source": [
    "#call outliers function for traing and test dataset\n",
    "taxi_feature = outliers(taxi_feature)\n",
    "print(\"\\nTrain data stats\\n\")\n",
    "#print(taxi_feature.describe())\n",
    "print(taxi_feature.shape)\n",
    "print(\"\\nTest data stats\\n\")\n",
    "taxi_feature_test = outliers(taxi_feature_test)\n",
    "#print(taxi_feature_test.describe())\n",
    "print(taxi_feature_test.shape)"
   ]
  },
  {
   "cell_type": "markdown",
   "metadata": {},
   "source": [
    "\n",
    "Split records for month day time format based on column 'pickup datetime'"
   ]
  },
  {
   "cell_type": "code",
   "execution_count": 57,
   "metadata": {},
   "outputs": [],
   "source": [
    "#split pickupdatetime\n",
    "taxi_feature['pickup_datetime'] = pd.to_datetime(taxi_feature['pickup_datetime'],\n",
    "                                                 infer_datetime_format=True)\n",
    "taxi_feature_test['pickup_datetime'] = pd.to_datetime(taxi_feature_test['pickup_datetime'],\n",
    "                                                      infer_datetime_format=True)\n"
   ]
  },
  {
   "cell_type": "code",
   "execution_count": 59,
   "metadata": {},
   "outputs": [
    {
     "name": "stdout",
     "output_type": "stream",
     "text": [
      "                               fare_amount     pickup_datetime  \\\nkey                                                              \n2009-06-15 17:26:21.0000001            4.5 2009-06-15 17:26:21   \n2010-01-05 16:52:16.0000002           16.9 2010-01-05 16:52:16   \n2011-08-18 00:35:00.00000049           5.7 2011-08-18 00:35:00   \n2012-04-21 04:30:42.0000001            7.7 2012-04-21 04:30:42   \n2010-03-09 07:51:00.000000135          5.3 2010-03-09 07:51:00   \n\n                               pickup_longitude  pickup_latitude  \\\nkey                                                                \n2009-06-15 17:26:21.0000001          -73.844311        40.721319   \n2010-01-05 16:52:16.0000002          -74.016048        40.711303   \n2011-08-18 00:35:00.00000049         -73.982738        40.761270   \n2012-04-21 04:30:42.0000001          -73.987130        40.733143   \n2010-03-09 07:51:00.000000135        -73.968095        40.768008   \n\n                               dropoff_longitude  dropoff_latitude  \\\nkey                                                                  \n2009-06-15 17:26:21.0000001           -73.841610         40.712278   \n2010-01-05 16:52:16.0000002           -73.979268         40.782004   \n2011-08-18 00:35:00.00000049          -73.991242         40.750562   \n2012-04-21 04:30:42.0000001           -73.991567         40.758092   \n2010-03-09 07:51:00.000000135         -73.956655         40.783762   \n\n                               passenger_count  \nkey                                             \n2009-06-15 17:26:21.0000001                  1  \n2010-01-05 16:52:16.0000002                  1  \n2011-08-18 00:35:00.00000049                 2  \n2012-04-21 04:30:42.0000001                  1  \n2010-03-09 07:51:00.000000135                1  \n"
     ]
    }
   ],
   "source": [
    "print(taxi_feature.head())"
   ]
  },
  {
   "cell_type": "code",
   "execution_count": 43,
   "metadata": {},
   "outputs": [],
   "source": [
    "#function to split datetime column into year/month/day/hour and day of week\n",
    "def split_date(df):\n",
    "    taxi_feature['year'] = df.pickup_datetime.dt.year\n",
    "    taxi_feature['month'] = df.pickup_datetime.dt.month\n",
    "    taxi_feature['day'] = df.pickup_datetime.dt.day\n",
    "    taxi_feature['hour'] = df.pickup_datetime.dt.hour\n",
    "    taxi_feature['day_of_week'] = df.pickup_datetime.dt.dayofweek    \n",
    "    return taxi_feature"
   ]
  },
  {
   "cell_type": "code",
   "execution_count": 60,
   "metadata": {
    "collapsed": true
   },
   "outputs": [
    {
     "name": "stdout",
     "output_type": "stream",
     "text": [
      "                               fare_amount     pickup_datetime  \\\nkey                                                              \n2009-06-15 17:26:21.0000001            4.5 2009-06-15 17:26:21   \n2010-01-05 16:52:16.0000002           16.9 2010-01-05 16:52:16   \n2011-08-18 00:35:00.00000049           5.7 2011-08-18 00:35:00   \n2012-04-21 04:30:42.0000001            7.7 2012-04-21 04:30:42   \n2010-03-09 07:51:00.000000135          5.3 2010-03-09 07:51:00   \n\n                               pickup_longitude  pickup_latitude  \\\nkey                                                                \n2009-06-15 17:26:21.0000001          -73.844311        40.721319   \n2010-01-05 16:52:16.0000002          -74.016048        40.711303   \n2011-08-18 00:35:00.00000049         -73.982738        40.761270   \n2012-04-21 04:30:42.0000001          -73.987130        40.733143   \n2010-03-09 07:51:00.000000135        -73.968095        40.768008   \n\n                               dropoff_longitude  dropoff_latitude  \\\nkey                                                                  \n2009-06-15 17:26:21.0000001           -73.841610         40.712278   \n2010-01-05 16:52:16.0000002           -73.979268         40.782004   \n2011-08-18 00:35:00.00000049          -73.991242         40.750562   \n2012-04-21 04:30:42.0000001           -73.991567         40.758092   \n2010-03-09 07:51:00.000000135         -73.956655         40.783762   \n\n                               passenger_count  year  month  day  hour  \\\nkey                                                                      \n2009-06-15 17:26:21.0000001                  1  2009      6   15    17   \n2010-01-05 16:52:16.0000002                  1  2010      1    5    16   \n2011-08-18 00:35:00.00000049                 2  2011      8   18     0   \n2012-04-21 04:30:42.0000001                  1  2012      4   21     4   \n2010-03-09 07:51:00.000000135                1  2010      3    9     7   \n\n                               day_of_week  \nkey                                         \n2009-06-15 17:26:21.0000001              0  \n2010-01-05 16:52:16.0000002              1  \n2011-08-18 00:35:00.00000049             3  \n2012-04-21 04:30:42.0000001              5  \n2010-03-09 07:51:00.000000135            1  \n"
     ]
    }
   ],
   "source": [
    "taxi_feature = split_date(taxi_feature)\n",
    "#drop pickup datetime column\n",
    "print(taxi_feature.head())\n"
   ]
  },
  {
   "cell_type": "code",
   "execution_count": 61,
   "metadata": {},
   "outputs": [],
   "source": [
    "taxi_feature.drop('pickup_datetime',axis=1,inplace=True)\n"
   ]
  },
  {
   "cell_type": "markdown",
   "metadata": {},
   "source": [
    "plot variation of rush hour  or weekday or no of passenger count which affects the price of taxi in New York"
   ]
  },
  {
   "cell_type": "code",
   "execution_count": 46,
   "metadata": {},
   "outputs": [],
   "source": [
    "#function to split datetime column into year/month/day/hour and day of week\n",
    "def split_date_test(df):\n",
    "    taxi_feature_test['year'] = df.pickup_datetime.dt.year\n",
    "    taxi_feature_test['month'] = df.pickup_datetime.dt.month\n",
    "    taxi_feature_test['day'] = df.pickup_datetime.dt.day\n",
    "    taxi_feature_test['hour'] = df.pickup_datetime.dt.hour\n",
    "    taxi_feature_test['day_of_week'] = df.pickup_datetime.dt.dayofweek    \n",
    "    return taxi_feature_test\n"
   ]
  },
  {
   "cell_type": "code",
   "execution_count": 62,
   "metadata": {},
   "outputs": [
    {
     "name": "stdout",
     "output_type": "stream",
     "text": [
      "                           key  pickup_longitude  pickup_latitude  \\\n0  2015-01-27 13:08:24.0000002        -73.973320        40.763805   \n1  2015-01-27 13:08:24.0000003        -73.986862        40.719383   \n2  2011-10-08 11:53:44.0000002        -73.982524        40.751260   \n3  2012-12-01 21:12:12.0000002        -73.981160        40.767807   \n4  2012-12-01 21:12:12.0000003        -73.966046        40.789775   \n\n   dropoff_longitude  dropoff_latitude  passenger_count  year  month  day  \\\n0         -73.981430         40.743835                1  2015      1   27   \n1         -73.998886         40.739201                1  2015      1   27   \n2         -73.979654         40.746139                1  2011     10    8   \n3         -73.990448         40.751635                1  2012     12    1   \n4         -73.988565         40.744427                1  2012     12    1   \n\n   hour  day_of_week  \n0    13            1  \n1    13            1  \n2    11            5  \n3    21            5  \n4    21            5  \n"
     ]
    }
   ],
   "source": [
    "taxi_feature_test = split_date_test(taxi_feature_test)\n",
    "#drop pickup datetime column\n",
    "taxi_feature_test.drop('pickup_datetime',axis=1,inplace=True)\n",
    "print(taxi_feature_test.head())"
   ]
  },
  {
   "cell_type": "code",
   "execution_count": 14,
   "metadata": {},
   "outputs": [
    {
     "data": {
      "image/png": "[encoded data removed]",
      "text/plain": [
       "<matplotlib.figure.Figure at 0x23f5d990cc0>"
      ]
     },
     "metadata": {},
     "output_type": "display_data"
    }
   ],
   "source": [
    "\n",
    "#plot for taxi fare price compared to rush hours/weekday \n",
    "%matplotlib inline \n",
    "plt.figure()\n",
    "plt.scatter(taxi_feature['fare_amount'],taxi_feature['passenger_count'])\n",
    "plt.xlabel(\"Fare Amount\")\n",
    "plt.ylabel(\"Number of Passengers\")\n",
    "plt.show()\n"
   ]
  },
  {
   "cell_type": "markdown",
   "metadata": {},
   "source": [
    "We observe in the plot that the fare is highest for a single commuter. As the number of passengers increases in the cab, the fare goes down"
   ]
  },
  {
   "cell_type": "code",
   "execution_count": 16,
   "metadata": {},
   "outputs": [
    {
     "data": {
      "image/png": "[encoded data removed]",
      "text/plain": [
       "<matplotlib.figure.Figure at 0x23f6fa8f898>"
      ]
     },
     "metadata": {},
     "output_type": "display_data"
    }
   ],
   "source": [
    "#plot for taxi fare price compared to day of the week \n",
    "plt.figure()\n",
    "plt.scatter(taxi_feature['fare_amount'],taxi_feature['day_of_week'])\n",
    "plt.ylabel(\"day of the week\")\n",
    "plt.xlabel(\"Fare Amount\")\n",
    "plt.show()"
   ]
  },
  {
   "cell_type": "code",
   "execution_count": 17,
   "metadata": {},
   "outputs": [
    {
     "data": {
      "image/png": "[encoded data removed]",
      "text/plain": [
       "<matplotlib.figure.Figure at 0x23f70e2c518>"
      ]
     },
     "metadata": {},
     "output_type": "display_data"
    }
   ],
   "source": [
    "#plot for comparing hour of the day and fare amount\n",
    "plt.figure()\n",
    "plt.scatter(taxi_feature['fare_amount'],taxi_feature['hour'])\n",
    "plt.ylabel(\"Hours of the day\")\n",
    "plt.xlabel(\"Fare Amount\")\n",
    "plt.show()"
   ]
  },
  {
   "cell_type": "markdown",
   "metadata": {},
   "source": [
    "Use of haversine distance to calculate distance between 2 locations using latitude and longitude\n",
    "\n",
    "Haversine\n",
    "formula:\n",
    "--- a = sin²(Δφ/2) + cos φ1 ⋅ cos φ2 ⋅ sin²(Δλ/2)\n",
    "--- c = 2 ⋅ atan2( √a, √(1−a) )\n",
    "--- d = R ⋅ c\n",
    "where\tφ is latitude, λ is longitude, R is earth’s radius (mean radius = 6,371km);\n",
    "note that angles need to be in radians to pass to trig functions!"
   ]
  },
  {
   "cell_type": "code",
   "execution_count": 50,
   "metadata": {},
   "outputs": [],
   "source": [
    "def dist_func(df):\n",
    "    #haversine\n",
    "    R = 6371\n",
    "    delta_lat = np.radians(df['dropoff_latitude'] - df['pickup_latitude'])\n",
    "    delta_long = np.radians(df['dropoff_longitude'] - df['pickup_longitude'])\n",
    "    lat2 = np.radians(df['dropoff_latitude'])\n",
    "    lat1 = np.radians(df['pickup_latitude'])\n",
    "    a = (np.sin(delta_lat/2.0)**2) + (np.sin(delta_long/2.0)**2) * np.cos(lat2) * np.cos(lat1)\n",
    "    c = 2 * (np.arctan2(np.sqrt(a),np.sqrt(1 - a))) \n",
    "    df['distance'] = R * c\n",
    "    #euclidean\n",
    "    #df['distance_e'] = np.sqrt(delta_lat**2 + delta_long ** 2)\n",
    "    return df"
   ]
  },
  {
   "cell_type": "code",
   "execution_count": 69,
   "metadata": {},
   "outputs": [],
   "source": [
    "taxi_feature = dist_func(taxi_feature)\n",
    "#print(taxi_feature.head())\n",
    "taxi_feature_test = dist_func(taxi_feature_test)\n",
    "#print(taxi_feature_test.head())"
   ]
  },
  {
   "cell_type": "code",
   "execution_count": 70,
   "metadata": {
    "collapsed": false
   },
   "outputs": [
    {
     "name": "stdout",
     "output_type": "stream",
     "text": [
      "fare_amount          0\npickup_longitude     0\npickup_latitude      0\ndropoff_longitude    0\ndropoff_latitude     0\npassenger_count      0\nyear                 0\nmonth                0\nday                  0\nhour                 0\nday_of_week          0\ndistance             0\ndistance_e           0\ndtype: int64\n\n\nkey                  0\npickup_longitude     0\npickup_latitude      0\ndropoff_longitude    0\ndropoff_latitude     0\npassenger_count      0\nyear                 0\nmonth                0\nday                  0\nhour                 0\nday_of_week          0\ndistance             0\ndistance_e           0\ndtype: int64\n"
     ]
    }
   ],
   "source": [
    "taxi_feature['dropoff_longitude'].replace(np.nan,0,inplace=True)\n",
    "taxi_feature['dropoff_latitude'].replace(np.nan,0,inplace=True)\n",
    "taxi_feature['distance'].replace(np.nan,0,inplace=True)\n",
    "taxi_feature.dropna(axis=0,how='any')\n",
    "print(taxi_feature.isnull().sum())\n",
    "print(\"\\n\")\n",
    "#test data\n",
    "taxi_feature_test['dropoff_longitude'].replace(np.nan,0,inplace=True)\n",
    "taxi_feature_test['dropoff_latitude'].replace(np.nan,0,inplace=True)\n",
    "taxi_feature_test['distance'].replace(np.nan,0,inplace=True)\n",
    "taxi_feature_test.dropna(axis=0,how='any')\n",
    "print(taxi_feature_test.isnull().sum())"
   ]
  },
  {
   "cell_type": "code",
   "execution_count": 71,
   "metadata": {},
   "outputs": [
    {
     "name": "stdout",
     "output_type": "stream",
     "text": [
      "y: \n                               fare_amount\nkey                                       \n2009-06-15 17:26:21.0000001            4.5\n2010-01-05 16:52:16.0000002           16.9\n2011-08-18 00:35:00.00000049           5.7\n2012-04-21 04:30:42.0000001            7.7\n2010-03-09 07:51:00.000000135          5.3\nx: \n                               pickup_longitude  pickup_latitude  \\\nkey                                                                \n2009-06-15 17:26:21.0000001          -73.844311        40.721319   \n2010-01-05 16:52:16.0000002          -74.016048        40.711303   \n2011-08-18 00:35:00.00000049         -73.982738        40.761270   \n2012-04-21 04:30:42.0000001          -73.987130        40.733143   \n2010-03-09 07:51:00.000000135        -73.968095        40.768008   \n\n                               dropoff_longitude  dropoff_latitude  \\\nkey                                                                  \n2009-06-15 17:26:21.0000001           -73.841610         40.712278   \n2010-01-05 16:52:16.0000002           -73.979268         40.782004   \n2011-08-18 00:35:00.00000049          -73.991242         40.750562   \n2012-04-21 04:30:42.0000001           -73.991567         40.758092   \n2010-03-09 07:51:00.000000135         -73.956655         40.783762   \n\n                               passenger_count  year  month  day  hour  \\\nkey                                                                      \n2009-06-15 17:26:21.0000001                  1  2009      6   15    17   \n2010-01-05 16:52:16.0000002                  1  2010      1    5    16   \n2011-08-18 00:35:00.00000049                 2  2011      8   18     0   \n2012-04-21 04:30:42.0000001                  1  2012      4   21     4   \n2010-03-09 07:51:00.000000135                1  2010      3    9     7   \n\n                               day_of_week  distance  distance_e  \nkey                                                               \n2009-06-15 17:26:21.0000001              0  1.030764    0.000165  \n2010-01-05 16:52:16.0000002              1  8.450134    0.001391  \n2011-08-18 00:35:00.00000049             3  1.389525    0.000239  \n2012-04-21 04:30:42.0000001              5  2.799270    0.000442  \n2010-03-09 07:51:00.000000135            1  1.999157    0.000340  \n"
     ]
    }
   ],
   "source": [
    "#taxi_feature= taxi_feature.reset_index()\n",
    "taxi_feature_x = taxi_feature.iloc[:,1:]\n",
    "taxi_feature_y = taxi_feature.iloc[:,0:1]\n",
    "print(\"y: \\n\" + str(taxi_feature_y.head()))\n",
    "print(\"x: \\n\" + str(taxi_feature_x.head()))"
   ]
  },
  {
   "cell_type": "code",
   "execution_count": 72,
   "metadata": {},
   "outputs": [
    {
     "name": "stdout",
     "output_type": "stream",
     "text": [
      "coefficient :[[ 1.57355506e-03 -1.52183016e-03  4.04290989e-03  3.47267365e-03\n   8.93731996e-02  6.50955481e-01  1.04041211e-01  3.18160585e-03\n  -3.04467582e-02 -7.25795354e-03  6.05753289e-04  2.88453448e-02]]\nMSE:\n96.53805651619108\nR2_score0.013293400929922483\n"
     ]
    }
   ],
   "source": [
    "#split dataset\n",
    "x_train, x_test,y_train, y_test = \\\n",
    "    train_test_split(taxi_feature_x,taxi_feature_y,random_state=0,test_size=0.2)\n",
    "\n",
    "#linear regression\n",
    "lm_same = LinearRegression()\n",
    "lm_model_same = lm_same.fit(x_train,y_train)\n",
    "lm_y_same = lm_model_same.predict(x_test)\n",
    "print(\"coefficient :\" + str(lm_model_same.coef_))\n",
    "print(\"MSE:\\n\" + str(mse(y_test,lm_y_same)))\n",
    "print(\"R2_score\" + str(r2_score(y_test,lm_y_same)))\n"
   ]
  },
  {
   "cell_type": "code",
   "execution_count": 91,
   "metadata": {
    "collapsed": false
   },
   "outputs": [
    {
     "name": "stderr",
     "output_type": "stream",
     "text": [
      "C:\\Users\\Apurva Sinha\\Anaconda3\\lib\\site-packages\\ipykernel_launcher.py:2: DataConversionWarning: A column-vector y was passed when a 1d array was expected. Please change the shape of y to (n_samples,), for example using ravel().\n  \n"
     ]
    },
    {
     "name": "stdout",
     "output_type": "stream",
     "text": [
      "MSE:\n24.169709237740545\n"
     ]
    }
   ],
   "source": [
    "rf = RandomForestRegressor(random_state=23,min_samples_leaf=3,max_depth=20,max_features=11,bootstrap=True)\n",
    "rf.fit(x_train, y_train)\n",
    "rf_predict = rf.predict(x_test)\n",
    "print(\"MSE:\\n\" + str(mse(y_test,rf_predict)))\n"
   ]
  },
  {
   "cell_type": "code",
   "execution_count": 86,
   "metadata": {},
   "outputs": [
    {
     "name": "stdout",
     "output_type": "stream",
     "text": [
      "[10.62994396 10.86030815  4.49933452 ... 54.11557029 21.86857143\n  7.10871019]\n"
     ]
    }
   ],
   "source": [
    "#final prediction\n",
    "#print(taxi_feature_test.head())\n",
    "\n",
    "#print(taxi_feature_test.keys())\n",
    "y_pred_final = rf.predict(taxi_feature_test.iloc[:,1:])\n",
    "\n",
    "print(y_pred_final)"
   ]
  },
  {
   "cell_type": "code",
   "execution_count": 82,
   "metadata": {},
   "outputs": [
    {
     "name": "stdout",
     "output_type": "stream",
     "text": [
      "MSE of XGB :\n24.515812874490408\n"
     ]
    }
   ],
   "source": [
    "#implement xgboost\n",
    "xgb_model = XGBRegressor(learning_rate=0.1,subsample=0.6,max_delta_step=5,booster='gbtree')\n",
    "xgb_model.fit(x_train,y_train)\n",
    "xgb_predict = xgb_model.predict(x_test)\n",
    "print(\"MSE of XGB :\\n\" + str(mse(y_test,xgb_predict)))"
   ]
  },
  {
   "cell_type": "code",
   "execution_count": 76,
   "metadata": {},
   "outputs": [],
   "source": [
    "# # set xgboost params  for k fold cv XGBOOST\n",
    "# param = {\n",
    "#     'max_delta_step': 3,  \n",
    "#     'subsample': 0.6,  \n",
    "#     'booster': 'gbtree',  \n",
    "#     'learning_rate': 0.1\n",
    "#         } \n",
    "# #implement xgboost\n",
    "# x, y = taxi_feature.iloc[:,1:],taxi_feature.iloc[:,0:1]\n",
    "# x_t,y_t = taxi_feature.iloc[:,1:],taxi_feature.iloc[:,0:1]\n",
    "# # use DMatrix for xgbosot\n",
    "# dtrain = xgb.DMatrix(taxi_feature, label=y)\n",
    "# dtest = xgb.DMatrix(x_test, label=y_test)\n",
    "# xgb_model_cv = xgb.cv(dtrain=dtrain,params=param,early_stopping_rounds=8,folds=4,metrics='rmse',num_boost_round=10)\n",
    "# xgb_predict_cv = xgb_model_cv.predict(dtest)\n",
    "# #print(\"MSE of XGB :\\n\" + str(mse(y_test,xgb_predict_cv)))"
   ]
  },
  {
   "cell_type": "code",
   "execution_count": 92,
   "metadata": {},
   "outputs": [],
   "source": [
    "submission = pd.DataFrame(\n",
    "    {'key': taxi_feature_test['key'],'fare_amount': rf.predict(taxi_feature_test.iloc[:,1:])},\n",
    "    columns = ['key', 'fare_amount'])\n",
    "#print(submission)\n",
    "submission.to_csv('C:\\Exercise\\TaxiFare\\submission1.csv', index = False)"
   ]
  }
 ],
 "metadata": {
  "kernelspec": {
   "display_name": "Python 2",
   "language": "python",
   "name": "python2"
  },
  "language_info": {
   "codemirror_mode": {
    "name": "ipython",
    "version": 2
   },
   "file_extension": ".py",
   "mimetype": "text/x-python",
   "name": "python",
   "nbconvert_exporter": "python",
   "pygments_lexer": "ipython2",
   "version": "2.7.6"
  }
 },
 "nbformat": 4,
 "nbformat_minor": 0
}
